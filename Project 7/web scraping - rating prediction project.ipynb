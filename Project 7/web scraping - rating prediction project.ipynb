{
 "cells": [
  {
   "cell_type": "code",
   "execution_count": 1,
   "metadata": {},
   "outputs": [],
   "source": [
    "# Importing Libraries\n",
    "import selenium\n",
    "import pandas as pd\n",
    "import numpy as np\n",
    "import time\n",
    "from bs4 import BeautifulSoup\n",
    "import requests\n",
    "import re\n",
    "from selenium import webdriver\n",
    "from selenium.webdriver.common.by import By\n",
    "from selenium.webdriver.chrome.service import Service\n",
    "from selenium.webdriver.chromium import service\n",
    "from selenium.webdriver.support.ui import WebDriverWait\n",
    "from selenium.common.exceptions import StaleElementReferenceException, NoSuchElementException"
   ]
  },
  {
   "cell_type": "markdown",
   "metadata": {},
   "source": [
    "## Web Scrapping - Amazon"
   ]
  },
  {
   "cell_type": "code",
   "execution_count": 2,
   "metadata": {},
   "outputs": [],
   "source": [
    "# connecting to web drivers and open url\n",
    "service = Service(r'D:\\Machine Learning Course\\Internship\\chromedriver_win32 (1)\\chromedriver.exe')\n",
    "service.start()\n",
    "\n",
    "driver = webdriver.Remote(service.service_url)\n",
    "\n",
    "keyword ='https://www.amazon.in/'\n",
    "driver.get(keyword)"
   ]
  },
  {
   "cell_type": "markdown",
   "metadata": {},
   "source": [
    "**Smart phones**"
   ]
  },
  {
   "cell_type": "code",
   "execution_count": 3,
   "metadata": {},
   "outputs": [],
   "source": [
    "#searching for \"smartphones\"\n",
    "search = driver.find_element(By.XPATH,'/html/body/div[1]/header/div/div[1]/div[2]/div/form/div[2]/div[1]/input')\n",
    "search.send_keys(\"smartphones\")\n",
    "search = driver.find_element(By.XPATH,'/html/body/div[1]/header/div/div[1]/div[2]/div/form/div[3]/div/span/input')\n",
    "search.click()"
   ]
  },
  {
   "cell_type": "code",
   "execution_count": 4,
   "metadata": {},
   "outputs": [],
   "source": [
    "#empty list to store all URLs of smartphones\n",
    "product_url =[]"
   ]
  },
  {
   "cell_type": "code",
   "execution_count": 5,
   "metadata": {},
   "outputs": [],
   "source": [
    "product_url_tag = driver.find_elements(By.XPATH,\"//a[@class='a-link-normal s-underline-text s-underline-link-text s-link-style a-text-normal']\")"
   ]
  },
  {
   "cell_type": "code",
   "execution_count": 6,
   "metadata": {},
   "outputs": [],
   "source": [
    "# url of smartphones are appended to the the list\n",
    "for u in product_url_tag:\n",
    " try: \n",
    "     product_url.append(u.get_attribute(\"href\"))\n",
    " except:\n",
    "    product_url.append('-')"
   ]
  },
  {
   "cell_type": "code",
   "execution_count": 7,
   "metadata": {},
   "outputs": [],
   "source": [
    "# an empty list to store all the urls of comment pages\n",
    "rate_url = []"
   ]
  },
  {
   "cell_type": "code",
   "execution_count": 8,
   "metadata": {},
   "outputs": [],
   "source": [
    "#collects all the urls of 1 star - 5 star comment pages.\n",
    "\n",
    "for i in product_url:\n",
    "    driver.get(i)\n",
    "    time.sleep(3)\n",
    "    try:\n",
    "        url_tag5 = driver.find_element(By.XPATH,\"//a[@class='a-link-normal 5star']\")\n",
    "        rate_url.append(url_tag5.get_attribute(\"href\"))\n",
    "    except:\n",
    "        pass\n",
    "    try:\n",
    "        url_tag4 = driver.find_element(By.XPATH,\"//a[@class='a-link-normal 4star']\")\n",
    "        rate_url.append(url_tag4.get_attribute(\"href\"))\n",
    "    except:\n",
    "        pass\n",
    "    try:\n",
    "        url_tag3 = driver.find_element(By.XPATH,\"//a[@class='a-link-normal 3star']\")\n",
    "        rate_url.append(url_tag3.get_attribute(\"href\"))\n",
    "    except:\n",
    "        pass\n",
    "    try:\n",
    "        url_tag2 = driver.find_element(By.XPATH,\"//a[@class='a-link-normal 2star']\")\n",
    "        rate_url.append(url_tag2.get_attribute(\"href\"))\n",
    "    except:\n",
    "        pass\n",
    "    try:\n",
    "        url_tag1 = driver.find_element(By.XPATH,\"//a[@class='a-link-normal 1star']\")\n",
    "        rate_url.append(url_tag1.get_attribute(\"href\"))\n",
    "    except:\n",
    "        pass"
   ]
  },
  {
   "cell_type": "code",
   "execution_count": 9,
   "metadata": {},
   "outputs": [],
   "source": [
    "cmt = [] #empty list to store all comments\n",
    "rate = [] #empty list to store all the ratings"
   ]
  },
  {
   "cell_type": "code",
   "execution_count": 10,
   "metadata": {},
   "outputs": [],
   "source": [
    "#to get comments and ratings on 20 pages \n",
    "for i in rate_url:\n",
    "    driver.get(i)\n",
    "    for x in range(0,21):\n",
    "        time.sleep(3)\n",
    "        comment_tag = driver.find_elements(By.XPATH,\"//span[@class='a-size-base review-text review-text-content']\")\n",
    "        rate_tag = driver.find_elements(By.XPATH,\"//a[contains(@href,'/gp/customer-reviews/')]/i/span[1]\")\n",
    "        for k in comment_tag:\n",
    "            try:\n",
    "                cmt.append(k.text.replace(\"\\n\",\" \"))\n",
    "            except:\n",
    "                cmt.append(\"-\")\n",
    "        for r in rate_tag:\n",
    "            try:\n",
    "                rate.append(r.get_attribute(\"innerHTML\"))\n",
    "            except:\n",
    "                rate.append(\"-\")\n",
    "        try:\n",
    "            nxtbtn = driver.find_element(By.XPATH,\"//*[@id='cm_cr-pagination_bar']/ul/li[2]/a\").click()\n",
    "        except:\n",
    "            pass\n",
    "        #nxtbtn.click()"
   ]
  },
  {
   "cell_type": "code",
   "execution_count": 11,
   "metadata": {},
   "outputs": [],
   "source": [
    "#to remove the \"out of 5 stars\" text and stores only the numbers in the Rate list\n",
    "Rate=[]\n",
    "for r in rate:\n",
    "    Rate.append(r.replace(' out of 5 stars',''))"
   ]
  },
  {
   "cell_type": "code",
   "execution_count": 12,
   "metadata": {},
   "outputs": [],
   "source": [
    "#creating a dataframe to store the comments and ratings\n",
    "ratings_df = {'Comment':cmt,'Rating':Rate}\n",
    "\n",
    "Rate_df1  = pd.DataFrame(ratings_df)"
   ]
  },
  {
   "cell_type": "code",
   "execution_count": 13,
   "metadata": {},
   "outputs": [
    {
     "data": {
      "text/html": [
       "<div>\n",
       "<style scoped>\n",
       "    .dataframe tbody tr th:only-of-type {\n",
       "        vertical-align: middle;\n",
       "    }\n",
       "\n",
       "    .dataframe tbody tr th {\n",
       "        vertical-align: top;\n",
       "    }\n",
       "\n",
       "    .dataframe thead th {\n",
       "        text-align: right;\n",
       "    }\n",
       "</style>\n",
       "<table border=\"1\" class=\"dataframe\">\n",
       "  <thead>\n",
       "    <tr style=\"text-align: right;\">\n",
       "      <th></th>\n",
       "      <th>Comment</th>\n",
       "      <th>Rating</th>\n",
       "    </tr>\n",
       "  </thead>\n",
       "  <tbody>\n",
       "    <tr>\n",
       "      <th>0</th>\n",
       "      <td>If you want to buy under 15k then go for it. S...</td>\n",
       "      <td>5.0</td>\n",
       "    </tr>\n",
       "    <tr>\n",
       "      <th>1</th>\n",
       "      <td>Camera: -2/10 Ye 10k ke below price deserve kr...</td>\n",
       "      <td>5.0</td>\n",
       "    </tr>\n",
       "    <tr>\n",
       "      <th>2</th>\n",
       "      <td>I bought 6gb/128gb variant foer12,600. This is...</td>\n",
       "      <td>5.0</td>\n",
       "    </tr>\n",
       "    <tr>\n",
       "      <th>3</th>\n",
       "      <td>Overall after 7 days of usage this is the beas...</td>\n",
       "      <td>5.0</td>\n",
       "    </tr>\n",
       "    <tr>\n",
       "      <th>4</th>\n",
       "      <td>All the features are very nice in this mobile....</td>\n",
       "      <td>5.0</td>\n",
       "    </tr>\n",
       "    <tr>\n",
       "      <th>...</th>\n",
       "      <td>...</td>\n",
       "      <td>...</td>\n",
       "    </tr>\n",
       "    <tr>\n",
       "      <th>23050</th>\n",
       "      <td>I recommend u, plz don't buy it Worthless</td>\n",
       "      <td>1.0</td>\n",
       "    </tr>\n",
       "    <tr>\n",
       "      <th>23051</th>\n",
       "      <td>Camera quality is zero, there is no return or ...</td>\n",
       "      <td>1.0</td>\n",
       "    </tr>\n",
       "    <tr>\n",
       "      <th>23052</th>\n",
       "      <td>Camera quality is very poor.... Battery back u...</td>\n",
       "      <td>1.0</td>\n",
       "    </tr>\n",
       "    <tr>\n",
       "      <th>23053</th>\n",
       "      <td>Camera quality very bad Display quality very bad</td>\n",
       "      <td>1.0</td>\n",
       "    </tr>\n",
       "    <tr>\n",
       "      <th>23054</th>\n",
       "      <td>I connect wifi many times but wifi can't be c...</td>\n",
       "      <td>1.0</td>\n",
       "    </tr>\n",
       "  </tbody>\n",
       "</table>\n",
       "<p>23055 rows × 2 columns</p>\n",
       "</div>"
      ],
      "text/plain": [
       "                                                 Comment Rating\n",
       "0      If you want to buy under 15k then go for it. S...    5.0\n",
       "1      Camera: -2/10 Ye 10k ke below price deserve kr...    5.0\n",
       "2      I bought 6gb/128gb variant foer12,600. This is...    5.0\n",
       "3      Overall after 7 days of usage this is the beas...    5.0\n",
       "4      All the features are very nice in this mobile....    5.0\n",
       "...                                                  ...    ...\n",
       "23050          I recommend u, plz don't buy it Worthless    1.0\n",
       "23051  Camera quality is zero, there is no return or ...    1.0\n",
       "23052  Camera quality is very poor.... Battery back u...    1.0\n",
       "23053   Camera quality very bad Display quality very bad    1.0\n",
       "23054   I connect wifi many times but wifi can't be c...    1.0\n",
       "\n",
       "[23055 rows x 2 columns]"
      ]
     },
     "execution_count": 13,
     "metadata": {},
     "output_type": "execute_result"
    }
   ],
   "source": [
    "Rate_df1"
   ]
  },
  {
   "cell_type": "code",
   "execution_count": 14,
   "metadata": {},
   "outputs": [],
   "source": [
    "# saving the data in excel file\n",
    "Rate_df1.to_excel('smartphones1.xlsx')"
   ]
  },
  {
   "cell_type": "markdown",
   "metadata": {},
   "source": [
    "**Laptops**"
   ]
  },
  {
   "cell_type": "code",
   "execution_count": 15,
   "metadata": {},
   "outputs": [],
   "source": [
    "#searching for \"laptops\"\n",
    "search = driver.find_element(By.XPATH,'/html/body/div[1]/header/div/div[1]/div[2]/div/form/div[2]/div[1]/input')\n",
    "search.send_keys(\"laptops\")\n",
    "search = driver.find_element(By.XPATH,'/html/body/div[1]/header/div/div[1]/div[2]/div/form/div[3]/div/span/input')\n",
    "search.click()"
   ]
  },
  {
   "cell_type": "code",
   "execution_count": 16,
   "metadata": {},
   "outputs": [],
   "source": [
    "#empty list to store all URLs of laptops\n",
    "product_url =[]"
   ]
  },
  {
   "cell_type": "code",
   "execution_count": 17,
   "metadata": {},
   "outputs": [],
   "source": [
    "product_url_tag = driver.find_elements(By.XPATH,\"//a[@class='a-link-normal s-underline-text s-underline-link-text s-link-style a-text-normal']\")"
   ]
  },
  {
   "cell_type": "code",
   "execution_count": 18,
   "metadata": {},
   "outputs": [],
   "source": [
    "# url of laptops are appended to the the list\n",
    "for u in product_url_tag:\n",
    " try: \n",
    "     product_url.append(u.get_attribute(\"href\"))\n",
    " except:\n",
    "    product_url.append('-')"
   ]
  },
  {
   "cell_type": "code",
   "execution_count": 19,
   "metadata": {},
   "outputs": [],
   "source": [
    "# an empty list to store all the urls of the comment pages\n",
    "rate_url = []"
   ]
  },
  {
   "cell_type": "code",
   "execution_count": 20,
   "metadata": {},
   "outputs": [],
   "source": [
    "#collects all the urls of 1 star - 5 star comment pages.\n",
    "\n",
    "for i in product_url:\n",
    "    driver.get(i)\n",
    "    time.sleep(3)\n",
    "    try:\n",
    "        url_tag5 = driver.find_element(By.XPATH,\"//a[@class='a-link-normal 5star']\")\n",
    "        rate_url.append(url_tag5.get_attribute(\"href\"))\n",
    "    except:\n",
    "        pass\n",
    "    try:\n",
    "        url_tag4 = driver.find_element(By.XPATH,\"//a[@class='a-link-normal 4star']\")\n",
    "        rate_url.append(url_tag4.get_attribute(\"href\"))\n",
    "    except:\n",
    "        pass\n",
    "    try:\n",
    "        url_tag3 = driver.find_element(By.XPATH,\"//a[@class='a-link-normal 3star']\")\n",
    "        rate_url.append(url_tag3.get_attribute(\"href\"))\n",
    "    except:\n",
    "        pass\n",
    "    try:\n",
    "        url_tag2 = driver.find_element(By.XPATH,\"//a[@class='a-link-normal 2star']\")\n",
    "        rate_url.append(url_tag2.get_attribute(\"href\"))\n",
    "    except:\n",
    "        pass\n",
    "    try:\n",
    "        url_tag1 = driver.find_element(By.XPATH,\"//a[@class='a-link-normal 1star']\")\n",
    "        rate_url.append(url_tag1.get_attribute(\"href\"))\n",
    "    except:\n",
    "        pass"
   ]
  },
  {
   "cell_type": "code",
   "execution_count": 21,
   "metadata": {},
   "outputs": [],
   "source": [
    "cmt = [] #empty list to store all comments\n",
    "rate = [] #empty list to store all the ratings"
   ]
  },
  {
   "cell_type": "code",
   "execution_count": 22,
   "metadata": {},
   "outputs": [],
   "source": [
    "# to get comments and ratings on 20 pages\n",
    "for i in rate_url:\n",
    "    driver.get(i)\n",
    "    for x in range(0,21):\n",
    "        time.sleep(3)\n",
    "        comment_tag = driver.find_elements(By.XPATH,\"//span[@class='a-size-base review-text review-text-content']\")\n",
    "        rate_tag = driver.find_elements(By.XPATH,\"//a[contains(@href,'/gp/customer-reviews/')]/i/span[1]\")\n",
    "        for k in comment_tag:\n",
    "            try:\n",
    "                cmt.append(k.text.replace(\"\\n\",\" \"))\n",
    "            except:\n",
    "                cmt.append(\"-\")\n",
    "        for r in rate_tag:\n",
    "            try:\n",
    "                rate.append(r.get_attribute(\"innerHTML\"))\n",
    "            except:\n",
    "                rate.append(\"-\")\n",
    "        try:\n",
    "            nxtbtn = driver.find_element(By.XPATH,\"//*[@id='cm_cr-pagination_bar']/ul/li[2]/a\").click()\n",
    "        except:\n",
    "            pass\n",
    "        #nxtbtn.click()"
   ]
  },
  {
   "cell_type": "code",
   "execution_count": 23,
   "metadata": {},
   "outputs": [],
   "source": [
    "# to remove the \"out of 5 stars\" text and stores only the numbers in the Rate list\n",
    "Rate=[]\n",
    "for r in rate:\n",
    "    Rate.append(r.replace(' out of 5 stars',''))"
   ]
  },
  {
   "cell_type": "code",
   "execution_count": 25,
   "metadata": {},
   "outputs": [
    {
     "name": "stdout",
     "output_type": "stream",
     "text": [
      "12801 12209\n"
     ]
    }
   ],
   "source": [
    "print(len(cmt),len(Rate))"
   ]
  },
  {
   "cell_type": "code",
   "execution_count": 26,
   "metadata": {},
   "outputs": [],
   "source": [
    "cmt=cmt[0:12200]\n",
    "Rate=Rate[0:12200]"
   ]
  },
  {
   "cell_type": "code",
   "execution_count": 27,
   "metadata": {},
   "outputs": [],
   "source": [
    "#creating a dataframe to store the comments and ratings\n",
    "ratings_df = {'Comment':cmt,'Rating':Rate}\n",
    "\n",
    "Rate_df2  = pd.DataFrame(ratings_df)"
   ]
  },
  {
   "cell_type": "code",
   "execution_count": 28,
   "metadata": {},
   "outputs": [
    {
     "data": {
      "text/html": [
       "<div>\n",
       "<style scoped>\n",
       "    .dataframe tbody tr th:only-of-type {\n",
       "        vertical-align: middle;\n",
       "    }\n",
       "\n",
       "    .dataframe tbody tr th {\n",
       "        vertical-align: top;\n",
       "    }\n",
       "\n",
       "    .dataframe thead th {\n",
       "        text-align: right;\n",
       "    }\n",
       "</style>\n",
       "<table border=\"1\" class=\"dataframe\">\n",
       "  <thead>\n",
       "    <tr style=\"text-align: right;\">\n",
       "      <th></th>\n",
       "      <th>Comment</th>\n",
       "      <th>Rating</th>\n",
       "    </tr>\n",
       "  </thead>\n",
       "  <tbody>\n",
       "    <tr>\n",
       "      <th>0</th>\n",
       "      <td>On the heading of the product it is written it...</td>\n",
       "      <td>5.0</td>\n",
       "    </tr>\n",
       "    <tr>\n",
       "      <th>1</th>\n",
       "      <td>Good configuration!! Average display</td>\n",
       "      <td>5.0</td>\n",
       "    </tr>\n",
       "    <tr>\n",
       "      <th>2</th>\n",
       "      <td></td>\n",
       "      <td>5.0</td>\n",
       "    </tr>\n",
       "    <tr>\n",
       "      <th>3</th>\n",
       "      <td>I have got this laptop from Amazon for my dail...</td>\n",
       "      <td>5.0</td>\n",
       "    </tr>\n",
       "    <tr>\n",
       "      <th>4</th>\n",
       "      <td>Very bad product from hp 3.5 month me khrab ho...</td>\n",
       "      <td>5.0</td>\n",
       "    </tr>\n",
       "    <tr>\n",
       "      <th>...</th>\n",
       "      <td>...</td>\n",
       "      <td>...</td>\n",
       "    </tr>\n",
       "    <tr>\n",
       "      <th>12195</th>\n",
       "      <td>Play Video  Everything in this laptop....Super...</td>\n",
       "      <td>1.0</td>\n",
       "    </tr>\n",
       "    <tr>\n",
       "      <th>12196</th>\n",
       "      <td></td>\n",
       "      <td>1.0</td>\n",
       "    </tr>\n",
       "    <tr>\n",
       "      <th>12197</th>\n",
       "      <td>Good product with awesome quality 🌟</td>\n",
       "      <td>1.0</td>\n",
       "    </tr>\n",
       "    <tr>\n",
       "      <th>12198</th>\n",
       "      <td>Good to look . You can use if you want to use ...</td>\n",
       "      <td>1.0</td>\n",
       "    </tr>\n",
       "    <tr>\n",
       "      <th>12199</th>\n",
       "      <td>Nice laptop and awesome. I would recommended t...</td>\n",
       "      <td>1.0</td>\n",
       "    </tr>\n",
       "  </tbody>\n",
       "</table>\n",
       "<p>12200 rows × 2 columns</p>\n",
       "</div>"
      ],
      "text/plain": [
       "                                                 Comment Rating\n",
       "0      On the heading of the product it is written it...    5.0\n",
       "1                   Good configuration!! Average display    5.0\n",
       "2                                                           5.0\n",
       "3      I have got this laptop from Amazon for my dail...    5.0\n",
       "4      Very bad product from hp 3.5 month me khrab ho...    5.0\n",
       "...                                                  ...    ...\n",
       "12195  Play Video  Everything in this laptop....Super...    1.0\n",
       "12196                                                       1.0\n",
       "12197                Good product with awesome quality 🌟    1.0\n",
       "12198  Good to look . You can use if you want to use ...    1.0\n",
       "12199  Nice laptop and awesome. I would recommended t...    1.0\n",
       "\n",
       "[12200 rows x 2 columns]"
      ]
     },
     "execution_count": 28,
     "metadata": {},
     "output_type": "execute_result"
    }
   ],
   "source": [
    "Rate_df2"
   ]
  },
  {
   "cell_type": "code",
   "execution_count": 29,
   "metadata": {},
   "outputs": [],
   "source": [
    "# saving the data in excel file\n",
    "Rate_df2.to_excel('laptops1.xlsx')"
   ]
  },
  {
   "cell_type": "markdown",
   "metadata": {},
   "source": [
    "## Web scraping - Flipkart"
   ]
  },
  {
   "cell_type": "code",
   "execution_count": 30,
   "metadata": {},
   "outputs": [],
   "source": [
    "# connecting to web drivers and open url\n",
    "service = Service(r'D:\\Machine Learning Course\\Internship\\chromedriver_win32 (1)\\chromedriver.exe')\n",
    "service.start()\n",
    "\n",
    "driver = webdriver.Remote(service.service_url)\n",
    "\n",
    "keyword = 'https://www.flipkart.com/'\n",
    "driver.get(keyword)"
   ]
  },
  {
   "cell_type": "markdown",
   "metadata": {},
   "source": [
    "**Smart watches**"
   ]
  },
  {
   "cell_type": "code",
   "execution_count": 41,
   "metadata": {},
   "outputs": [],
   "source": [
    "#searching for \"Smart watches\"\n",
    "search = driver.find_element(By.XPATH,'/html/body/div/div/div[1]/div[1]/div[2]/div[2]/form/div/div/input')\n",
    "search.send_keys('Smart watches')\n",
    "searchbtn = driver.find_element(By.CLASS_NAME,'L0Z3Pu').click()"
   ]
  },
  {
   "cell_type": "code",
   "execution_count": 42,
   "metadata": {},
   "outputs": [],
   "source": [
    "#empty list to store all URLs of smartwatches \n",
    "product_url = []"
   ]
  },
  {
   "cell_type": "code",
   "execution_count": 43,
   "metadata": {},
   "outputs": [],
   "source": [
    "# url of each smartwatch is appended to the the list\n",
    "url_tag = driver.find_elements(By.XPATH,\"//a[@class='_1fQZEK']\")\n",
    "for u in url_tag:\n",
    "     product_url.append(u.get_attribute(\"href\"))"
   ]
  },
  {
   "cell_type": "code",
   "execution_count": 44,
   "metadata": {},
   "outputs": [],
   "source": [
    "revurl=[] # an empty list to store all the urls of the review section of the products"
   ]
  },
  {
   "cell_type": "code",
   "execution_count": 45,
   "metadata": {},
   "outputs": [],
   "source": [
    "# url of review section of each product is appended to the the list\n",
    "for i in product_url:\n",
    "    driver.get(i)\n",
    "    time.sleep(1)\n",
    "    try:\n",
    "        rev_tag = driver.find_element(By.XPATH,\"//*[@class='col JOpGWq']/a\")\n",
    "        revurl.append(rev_tag.get_attribute(\"href\"))\n",
    "    except:\n",
    "        pass"
   ]
  },
  {
   "cell_type": "code",
   "execution_count": 46,
   "metadata": {},
   "outputs": [],
   "source": [
    "cmt = [] # an empty list to store all of the comment\n",
    "rate = [] # an empty list to store all the ratings\n",
    "revpgurl=[] # an empty list to store all the urls of the pages containing reviews"
   ]
  },
  {
   "cell_type": "code",
   "execution_count": 47,
   "metadata": {},
   "outputs": [],
   "source": [
    "#the url of each comment page is appended to the the list\n",
    "for i in revurl:\n",
    "    driver.get(i)\n",
    "    time.sleep(2)\n",
    "    \n",
    "              \n",
    "    revpg=driver.find_elements(By.XPATH,\"//a[@class='ge-49M']\")\n",
    "    for n in revpg:\n",
    "        revpgurl.append(n.get_attribute(\"href\"))"
   ]
  },
  {
   "cell_type": "code",
   "execution_count": 48,
   "metadata": {},
   "outputs": [],
   "source": [
    "#all the comments and ratings are collected\n",
    "for j in revpgurl:\n",
    "        driver.get(j)\n",
    "        time.sleep(3)\n",
    "        comment_tag = driver.find_elements(By.XPATH,\"//div[@class='t-ZTKy']/div/div\")\n",
    "        rate_tag = driver.find_elements(By.XPATH,\"//div[@class='_3LWZlK _1BLPMq']\")\n",
    "    \n",
    "        for k in comment_tag:\n",
    "            try:\n",
    "                cmt.append(k.text.replace(\"\\n\",\" \"))\n",
    "            except:\n",
    "                cmt.append(\"-\")\n",
    "        for r in rate_tag:\n",
    "            try:\n",
    "                rate.append(r.text)\n",
    "            except:\n",
    "                rate.append(\"-\")"
   ]
  },
  {
   "cell_type": "code",
   "execution_count": 49,
   "metadata": {},
   "outputs": [
    {
     "data": {
      "text/plain": [
       "990"
      ]
     },
     "execution_count": 49,
     "metadata": {},
     "output_type": "execute_result"
    }
   ],
   "source": [
    "len(cmt)"
   ]
  },
  {
   "cell_type": "code",
   "execution_count": 50,
   "metadata": {},
   "outputs": [
    {
     "data": {
      "text/plain": [
       "769"
      ]
     },
     "execution_count": 50,
     "metadata": {},
     "output_type": "execute_result"
    }
   ],
   "source": [
    "len(rate)"
   ]
  },
  {
   "cell_type": "code",
   "execution_count": 51,
   "metadata": {},
   "outputs": [],
   "source": [
    "ratingsdf3 = {'Comment':cmt[0:750],'Rating':rate[0:750]}\n",
    "\n",
    "Rate_df3  = pd.DataFrame(ratingsdf3) #creating dataframe of reviews and ratings"
   ]
  },
  {
   "cell_type": "code",
   "execution_count": 52,
   "metadata": {},
   "outputs": [
    {
     "data": {
      "text/html": [
       "<div>\n",
       "<style scoped>\n",
       "    .dataframe tbody tr th:only-of-type {\n",
       "        vertical-align: middle;\n",
       "    }\n",
       "\n",
       "    .dataframe tbody tr th {\n",
       "        vertical-align: top;\n",
       "    }\n",
       "\n",
       "    .dataframe thead th {\n",
       "        text-align: right;\n",
       "    }\n",
       "</style>\n",
       "<table border=\"1\" class=\"dataframe\">\n",
       "  <thead>\n",
       "    <tr style=\"text-align: right;\">\n",
       "      <th></th>\n",
       "      <th>Comment</th>\n",
       "      <th>Rating</th>\n",
       "    </tr>\n",
       "  </thead>\n",
       "  <tbody>\n",
       "    <tr>\n",
       "      <th>0</th>\n",
       "      <td>Amazing smart watch, probably the best in the ...</td>\n",
       "      <td>5</td>\n",
       "    </tr>\n",
       "    <tr>\n",
       "      <th>1</th>\n",
       "      <td>One of best investments I made. Considering I ...</td>\n",
       "      <td>5</td>\n",
       "    </tr>\n",
       "    <tr>\n",
       "      <th>2</th>\n",
       "      <td>Best watch in its segment and he coolest part ...</td>\n",
       "      <td>5</td>\n",
       "    </tr>\n",
       "    <tr>\n",
       "      <th>3</th>\n",
       "      <td>Apple iWatch series3 is one of the best purcha...</td>\n",
       "      <td>5</td>\n",
       "    </tr>\n",
       "    <tr>\n",
       "      <th>4</th>\n",
       "      <td>Product is awesome with cool features but only...</td>\n",
       "      <td>5</td>\n",
       "    </tr>\n",
       "    <tr>\n",
       "      <th>...</th>\n",
       "      <td>...</td>\n",
       "      <td>...</td>\n",
       "    </tr>\n",
       "    <tr>\n",
       "      <th>745</th>\n",
       "      <td>This product is very good</td>\n",
       "      <td>5</td>\n",
       "    </tr>\n",
       "    <tr>\n",
       "      <th>746</th>\n",
       "      <td>Nice product</td>\n",
       "      <td>5</td>\n",
       "    </tr>\n",
       "    <tr>\n",
       "      <th>747</th>\n",
       "      <td>Fantastic watch</td>\n",
       "      <td>5</td>\n",
       "    </tr>\n",
       "    <tr>\n",
       "      <th>748</th>\n",
       "      <td>Nice profucts</td>\n",
       "      <td>5</td>\n",
       "    </tr>\n",
       "    <tr>\n",
       "      <th>749</th>\n",
       "      <td>Good product</td>\n",
       "      <td>5</td>\n",
       "    </tr>\n",
       "  </tbody>\n",
       "</table>\n",
       "<p>750 rows × 2 columns</p>\n",
       "</div>"
      ],
      "text/plain": [
       "                                               Comment Rating\n",
       "0    Amazing smart watch, probably the best in the ...      5\n",
       "1    One of best investments I made. Considering I ...      5\n",
       "2    Best watch in its segment and he coolest part ...      5\n",
       "3    Apple iWatch series3 is one of the best purcha...      5\n",
       "4    Product is awesome with cool features but only...      5\n",
       "..                                                 ...    ...\n",
       "745                          This product is very good      5\n",
       "746                                       Nice product      5\n",
       "747                                    Fantastic watch      5\n",
       "748                                      Nice profucts      5\n",
       "749                                       Good product      5\n",
       "\n",
       "[750 rows x 2 columns]"
      ]
     },
     "execution_count": 52,
     "metadata": {},
     "output_type": "execute_result"
    }
   ],
   "source": [
    "Rate_df3 "
   ]
  },
  {
   "cell_type": "code",
   "execution_count": 53,
   "metadata": {},
   "outputs": [],
   "source": [
    "# saving the data in excel file\n",
    "Rate_df3.to_excel('smart_watches1.xlsx')"
   ]
  },
  {
   "cell_type": "markdown",
   "metadata": {},
   "source": [
    "**Smart TV**"
   ]
  },
  {
   "cell_type": "code",
   "execution_count": 54,
   "metadata": {},
   "outputs": [],
   "source": [
    "#searching for \"Smart tv\"\n",
    "search = driver.find_element(By.XPATH,'/html/body/div/div/div[1]/div[1]/div[2]/div[2]/form/div/div/input')\n",
    "search.send_keys('Smart tv')\n",
    "searchbtn = driver.find_element(By.CLASS_NAME,'L0Z3Pu').click()"
   ]
  },
  {
   "cell_type": "code",
   "execution_count": 55,
   "metadata": {},
   "outputs": [],
   "source": [
    "#empty list to store all URLs of smartphone products\n",
    "product_url = []"
   ]
  },
  {
   "cell_type": "code",
   "execution_count": 56,
   "metadata": {},
   "outputs": [],
   "source": [
    "# url of each smartphone is appended to the the list\n",
    "url_tag = driver.find_elements(By.XPATH,\"//a[@class='_1fQZEK']\")\n",
    "for u in url_tag:\n",
    "     product_url.append(u.get_attribute(\"href\"))"
   ]
  },
  {
   "cell_type": "code",
   "execution_count": 57,
   "metadata": {},
   "outputs": [],
   "source": [
    "revurl=[] # an empty list to store all the urls of the review section of the products"
   ]
  },
  {
   "cell_type": "code",
   "execution_count": 58,
   "metadata": {},
   "outputs": [],
   "source": [
    "#to get url of review section of each product is appended to the the list\n",
    "for i in product_url:\n",
    "    driver.get(i)\n",
    "    time.sleep(1)\n",
    "    try:\n",
    "        rev_tag = driver.find_element(By.XPATH,\"//*[@class='col JOpGWq']/a\")\n",
    "        revurl.append(rev_tag.get_attribute(\"href\"))\n",
    "    except:\n",
    "        pass"
   ]
  },
  {
   "cell_type": "code",
   "execution_count": 59,
   "metadata": {},
   "outputs": [],
   "source": [
    "cmt = [] # an empty list to store all of the comment\n",
    "rate = [] # an empty list to store all the ratings\n",
    "revpgurl=[] # an empty list to store all the urls of the pages containing reviews"
   ]
  },
  {
   "cell_type": "code",
   "execution_count": 60,
   "metadata": {},
   "outputs": [],
   "source": [
    "#to get url of each comment page is appended to the the list\n",
    "for i in revurl:\n",
    "    driver.get(i)\n",
    "    time.sleep(2)\n",
    "    \n",
    "              \n",
    "    revpg=driver.find_elements(By.XPATH,\"//a[@class='ge-49M']\")\n",
    "    for n in revpg:\n",
    "        revpgurl.append(n.get_attribute(\"href\"))"
   ]
  },
  {
   "cell_type": "code",
   "execution_count": 61,
   "metadata": {},
   "outputs": [],
   "source": [
    "#all the comments and ratings are collected\n",
    "for j in revpgurl:\n",
    "        driver.get(j)\n",
    "        time.sleep(3)\n",
    "        comment_tag = driver.find_elements(By.XPATH,\"//div[@class='t-ZTKy']/div/div\")\n",
    "        rate_tag = driver.find_elements(By.XPATH,\"//div[@class='_3LWZlK _1BLPMq']\")\n",
    "    \n",
    "        for k in comment_tag:\n",
    "            try:\n",
    "                cmt.append(k.text.replace(\"\\n\",\" \"))\n",
    "            except:\n",
    "                cmt.append(\"-\")\n",
    "        for r in rate_tag:\n",
    "            try:\n",
    "                rate.append(r.text)\n",
    "            except:\n",
    "                rate.append(\"-\")"
   ]
  },
  {
   "cell_type": "code",
   "execution_count": 62,
   "metadata": {},
   "outputs": [
    {
     "data": {
      "text/plain": [
       "1970"
      ]
     },
     "execution_count": 62,
     "metadata": {},
     "output_type": "execute_result"
    }
   ],
   "source": [
    "len(cmt)"
   ]
  },
  {
   "cell_type": "code",
   "execution_count": 63,
   "metadata": {},
   "outputs": [
    {
     "data": {
      "text/plain": [
       "1770"
      ]
     },
     "execution_count": 63,
     "metadata": {},
     "output_type": "execute_result"
    }
   ],
   "source": [
    "len(rate)"
   ]
  },
  {
   "cell_type": "code",
   "execution_count": 64,
   "metadata": {},
   "outputs": [],
   "source": [
    "ratingsdf4 = {'Comment':cmt[0:1750],'Rating':rate[0:1750]}\n",
    "\n",
    "Rate_df4  = pd.DataFrame(ratingsdf4) #creating dataframe of reviews and ratings"
   ]
  },
  {
   "cell_type": "code",
   "execution_count": 65,
   "metadata": {},
   "outputs": [
    {
     "data": {
      "text/html": [
       "<div>\n",
       "<style scoped>\n",
       "    .dataframe tbody tr th:only-of-type {\n",
       "        vertical-align: middle;\n",
       "    }\n",
       "\n",
       "    .dataframe tbody tr th {\n",
       "        vertical-align: top;\n",
       "    }\n",
       "\n",
       "    .dataframe thead th {\n",
       "        text-align: right;\n",
       "    }\n",
       "</style>\n",
       "<table border=\"1\" class=\"dataframe\">\n",
       "  <thead>\n",
       "    <tr style=\"text-align: right;\">\n",
       "      <th></th>\n",
       "      <th>Comment</th>\n",
       "      <th>Rating</th>\n",
       "    </tr>\n",
       "  </thead>\n",
       "  <tbody>\n",
       "    <tr>\n",
       "      <th>0</th>\n",
       "      <td>Nice tv and worth every penny 👌.....I just lov...</td>\n",
       "      <td>5</td>\n",
       "    </tr>\n",
       "    <tr>\n",
       "      <th>1</th>\n",
       "      <td>I love the video quality and the best part is ...</td>\n",
       "      <td>5</td>\n",
       "    </tr>\n",
       "    <tr>\n",
       "      <th>2</th>\n",
       "      <td>I'm happy with the service and instalation. Th...</td>\n",
       "      <td>5</td>\n",
       "    </tr>\n",
       "    <tr>\n",
       "      <th>3</th>\n",
       "      <td>Review about the TV Pros: 1. Picture clarity a...</td>\n",
       "      <td>4</td>\n",
       "    </tr>\n",
       "    <tr>\n",
       "      <th>4</th>\n",
       "      <td>Realme does the job again. Super Smart Tv , pi...</td>\n",
       "      <td>5</td>\n",
       "    </tr>\n",
       "    <tr>\n",
       "      <th>...</th>\n",
       "      <td>...</td>\n",
       "      <td>...</td>\n",
       "    </tr>\n",
       "    <tr>\n",
       "      <th>1745</th>\n",
       "      <td>Value for money, I purchased this non branded ...</td>\n",
       "      <td>4</td>\n",
       "    </tr>\n",
       "    <tr>\n",
       "      <th>1746</th>\n",
       "      <td>Picture quality is very low ...it's not 1+8gp ...</td>\n",
       "      <td>4</td>\n",
       "    </tr>\n",
       "    <tr>\n",
       "      <th>1747</th>\n",
       "      <td>Looking is good and love it</td>\n",
       "      <td>4</td>\n",
       "    </tr>\n",
       "    <tr>\n",
       "      <th>1748</th>\n",
       "      <td>Very nice picture quality and aap support it j...</td>\n",
       "      <td>5</td>\n",
       "    </tr>\n",
       "    <tr>\n",
       "      <th>1749</th>\n",
       "      <td>Nice Quality</td>\n",
       "      <td>5</td>\n",
       "    </tr>\n",
       "  </tbody>\n",
       "</table>\n",
       "<p>1750 rows × 2 columns</p>\n",
       "</div>"
      ],
      "text/plain": [
       "                                                Comment Rating\n",
       "0     Nice tv and worth every penny 👌.....I just lov...      5\n",
       "1     I love the video quality and the best part is ...      5\n",
       "2     I'm happy with the service and instalation. Th...      5\n",
       "3     Review about the TV Pros: 1. Picture clarity a...      4\n",
       "4     Realme does the job again. Super Smart Tv , pi...      5\n",
       "...                                                 ...    ...\n",
       "1745  Value for money, I purchased this non branded ...      4\n",
       "1746  Picture quality is very low ...it's not 1+8gp ...      4\n",
       "1747                        Looking is good and love it      4\n",
       "1748  Very nice picture quality and aap support it j...      5\n",
       "1749                                       Nice Quality      5\n",
       "\n",
       "[1750 rows x 2 columns]"
      ]
     },
     "execution_count": 65,
     "metadata": {},
     "output_type": "execute_result"
    }
   ],
   "source": [
    "Rate_df4"
   ]
  },
  {
   "cell_type": "code",
   "execution_count": 66,
   "metadata": {},
   "outputs": [],
   "source": [
    "# saving the data in excel file\n",
    "Rate_df4.to_excel('smart_tv1.xlsx')"
   ]
  },
  {
   "cell_type": "code",
   "execution_count": 67,
   "metadata": {},
   "outputs": [],
   "source": [
    "# to concate all scarpped data as single data set\n",
    "df = pd.concat([Rate_df1,Rate_df2,Rate_df3,Rate_df4],ignore_index=True)"
   ]
  },
  {
   "cell_type": "code",
   "execution_count": 68,
   "metadata": {},
   "outputs": [
    {
     "data": {
      "text/html": [
       "<div>\n",
       "<style scoped>\n",
       "    .dataframe tbody tr th:only-of-type {\n",
       "        vertical-align: middle;\n",
       "    }\n",
       "\n",
       "    .dataframe tbody tr th {\n",
       "        vertical-align: top;\n",
       "    }\n",
       "\n",
       "    .dataframe thead th {\n",
       "        text-align: right;\n",
       "    }\n",
       "</style>\n",
       "<table border=\"1\" class=\"dataframe\">\n",
       "  <thead>\n",
       "    <tr style=\"text-align: right;\">\n",
       "      <th></th>\n",
       "      <th>Comment</th>\n",
       "      <th>Rating</th>\n",
       "    </tr>\n",
       "  </thead>\n",
       "  <tbody>\n",
       "    <tr>\n",
       "      <th>0</th>\n",
       "      <td>If you want to buy under 15k then go for it. S...</td>\n",
       "      <td>5.0</td>\n",
       "    </tr>\n",
       "    <tr>\n",
       "      <th>1</th>\n",
       "      <td>Camera: -2/10 Ye 10k ke below price deserve kr...</td>\n",
       "      <td>5.0</td>\n",
       "    </tr>\n",
       "    <tr>\n",
       "      <th>2</th>\n",
       "      <td>I bought 6gb/128gb variant foer12,600. This is...</td>\n",
       "      <td>5.0</td>\n",
       "    </tr>\n",
       "    <tr>\n",
       "      <th>3</th>\n",
       "      <td>Overall after 7 days of usage this is the beas...</td>\n",
       "      <td>5.0</td>\n",
       "    </tr>\n",
       "    <tr>\n",
       "      <th>4</th>\n",
       "      <td>All the features are very nice in this mobile....</td>\n",
       "      <td>5.0</td>\n",
       "    </tr>\n",
       "    <tr>\n",
       "      <th>...</th>\n",
       "      <td>...</td>\n",
       "      <td>...</td>\n",
       "    </tr>\n",
       "    <tr>\n",
       "      <th>37750</th>\n",
       "      <td>Value for money, I purchased this non branded ...</td>\n",
       "      <td>4</td>\n",
       "    </tr>\n",
       "    <tr>\n",
       "      <th>37751</th>\n",
       "      <td>Picture quality is very low ...it's not 1+8gp ...</td>\n",
       "      <td>4</td>\n",
       "    </tr>\n",
       "    <tr>\n",
       "      <th>37752</th>\n",
       "      <td>Looking is good and love it</td>\n",
       "      <td>4</td>\n",
       "    </tr>\n",
       "    <tr>\n",
       "      <th>37753</th>\n",
       "      <td>Very nice picture quality and aap support it j...</td>\n",
       "      <td>5</td>\n",
       "    </tr>\n",
       "    <tr>\n",
       "      <th>37754</th>\n",
       "      <td>Nice Quality</td>\n",
       "      <td>5</td>\n",
       "    </tr>\n",
       "  </tbody>\n",
       "</table>\n",
       "<p>37755 rows × 2 columns</p>\n",
       "</div>"
      ],
      "text/plain": [
       "                                                 Comment Rating\n",
       "0      If you want to buy under 15k then go for it. S...    5.0\n",
       "1      Camera: -2/10 Ye 10k ke below price deserve kr...    5.0\n",
       "2      I bought 6gb/128gb variant foer12,600. This is...    5.0\n",
       "3      Overall after 7 days of usage this is the beas...    5.0\n",
       "4      All the features are very nice in this mobile....    5.0\n",
       "...                                                  ...    ...\n",
       "37750  Value for money, I purchased this non branded ...      4\n",
       "37751  Picture quality is very low ...it's not 1+8gp ...      4\n",
       "37752                        Looking is good and love it      4\n",
       "37753  Very nice picture quality and aap support it j...      5\n",
       "37754                                       Nice Quality      5\n",
       "\n",
       "[37755 rows x 2 columns]"
      ]
     },
     "execution_count": 68,
     "metadata": {},
     "output_type": "execute_result"
    }
   ],
   "source": [
    "df"
   ]
  },
  {
   "cell_type": "code",
   "execution_count": 69,
   "metadata": {},
   "outputs": [],
   "source": [
    "df.to_csv('Data.csv')"
   ]
  },
  {
   "cell_type": "code",
   "execution_count": null,
   "metadata": {},
   "outputs": [],
   "source": []
  }
 ],
 "metadata": {
  "kernelspec": {
   "display_name": "Python 3 (ipykernel)",
   "language": "python",
   "name": "python3"
  },
  "language_info": {
   "codemirror_mode": {
    "name": "ipython",
    "version": 3
   },
   "file_extension": ".py",
   "mimetype": "text/x-python",
   "name": "python",
   "nbconvert_exporter": "python",
   "pygments_lexer": "ipython3",
   "version": "3.9.12"
  }
 },
 "nbformat": 4,
 "nbformat_minor": 4
}
