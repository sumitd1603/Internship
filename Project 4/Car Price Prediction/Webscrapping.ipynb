{
 "cells": [
  {
   "cell_type": "markdown",
   "id": "d3bfa820",
   "metadata": {},
   "source": [
    "# Webscrapping the data for building model about car price prediction"
   ]
  },
  {
   "cell_type": "code",
   "execution_count": 1,
   "id": "a4c3d2cf",
   "metadata": {},
   "outputs": [],
   "source": [
    "# Importing Libraries\n",
    "import selenium\n",
    "import pandas as pd\n",
    "import numpy as np\n",
    "import time\n",
    "from bs4 import BeautifulSoup\n",
    "from selenium import webdriver \n",
    "import requests\n",
    "import re\n",
    "from selenium.webdriver.support.ui import WebDriverWait\n",
    "from selenium.webdriver.common.by import By  \n",
    "from selenium.common.exceptions import StaleElementReferenceException, NoSuchElementException"
   ]
  },
  {
   "cell_type": "code",
   "execution_count": 2,
   "id": "4ef7d0e0",
   "metadata": {},
   "outputs": [
    {
     "name": "stderr",
     "output_type": "stream",
     "text": [
      "C:\\Users\\HP\\AppData\\Local\\Temp\\ipykernel_14644\\83963726.py:2: DeprecationWarning: executable_path has been deprecated, please pass in a Service object\n",
      "  driver = webdriver.Chrome(r\"D:\\Internship\\Project 4\\Car Price Prediction\\chromedriver.exe\")\n"
     ]
    }
   ],
   "source": [
    "# Connecting to a webdriver\n",
    "driver = webdriver.Chrome(r\"D:\\Internship\\Project 4\\Car Price Prediction\\chromedriver.exe\")"
   ]
  },
  {
   "cell_type": "markdown",
   "id": "16402220",
   "metadata": {},
   "source": [
    "### Car Wale"
   ]
  },
  {
   "cell_type": "code",
   "execution_count": 3,
   "id": "11d84ad0",
   "metadata": {},
   "outputs": [],
   "source": [
    "url = \"https://www.carwale.com\"\n",
    "driver.get(url)\n",
    "driver.maximize_window()\n",
    "time.sleep(3)"
   ]
  },
  {
   "cell_type": "code",
   "execution_count": 5,
   "id": "b93a5f15",
   "metadata": {},
   "outputs": [],
   "source": [
    "#link for city\n",
    "used_cars = driver.find_element(By.XPATH,\"/html/body/div[1]/div[2]/div[4]/div[3]/section/footer/a/div\")               "
   ]
  },
  {
   "cell_type": "code",
   "execution_count": 6,
   "id": "db78b8c5",
   "metadata": {},
   "outputs": [],
   "source": [
    "# Clicking used cars\n",
    "used_cars.click()"
   ]
  },
  {
   "cell_type": "code",
   "execution_count": 7,
   "id": "85574495",
   "metadata": {},
   "outputs": [],
   "source": [
    "# Click Close button\n",
    "used_cars = driver.find_element(By.XPATH,\"/html/body/div[4]/span/span\").click()"
   ]
  },
  {
   "cell_type": "code",
   "execution_count": 8,
   "id": "83a88c4d",
   "metadata": {},
   "outputs": [],
   "source": [
    "# Scraping the data\n",
    "Car_brand = []\n",
    "car_price = []\n",
    "kms_driven = []\n",
    "fuel = []\n",
    "city = []\n",
    "car_name = []\n",
    "year=[]\n",
    "    \n",
    "for a in range(1000):\n",
    "    time.sleep(1)\n",
    "    driver.execute_script(\"window.scrollBy(0,-1)\")\n",
    "   \n",
    "    #fetching Details\n",
    "    # Car Brand\n",
    "    brand= driver.find_elements(By.XPATH,\"//span[@class='spancarname card-detail-block__title-text-with-year']\")\n",
    "    for i in brand:\n",
    "        p=i.text.split(\"\\n\")\n",
    "        Car_brand.append(p)\n",
    "        \n",
    "    # Car Price\n",
    "    price= driver.find_elements(By.XPATH,\"//span[@class='rupee-lac slprice']\")\n",
    "    for i in price:\n",
    "        n=i.text.split(\"\\n\")\n",
    "        car_price.append(n)\n",
    "        \n",
    "    # Kilometers driven\n",
    "    kms= driver.find_elements(By.XPATH,\"//span[@class='slkms']\")\n",
    "    for i in kms:\n",
    "        o=i.text.split(\"\\n\")\n",
    "        kms_driven.append(o)\n",
    "        \n",
    "    # Car Fuel type\n",
    "    ftyp= driver.find_elements(By.XPATH,\"//span[@class='fuel vehicle-data__item']\")\n",
    "    for i in ftyp:\n",
    "        m=i.text.split(\"\\n\")\n",
    "        fuel.append(m)\n",
    "        \n",
    "    # City\n",
    "    ct= driver.find_elements(By.XPATH,\"//span[@class='cityName']\")\n",
    "    for i in ct:\n",
    "        c=i.text.split(\"\\n\")\n",
    "        city.append(c)\n",
    "        \n",
    "    # Year of Purchase\n",
    "    yr= driver.find_elements(By.XPATH,\"//span[@class='slYear card-detail-block__title-text-with-year']\")\n",
    "    for i in yr:\n",
    "        y=i.text.split(\"\\n\")\n",
    "        year.append(y)"
   ]
  },
  {
   "cell_type": "code",
   "execution_count": 9,
   "id": "1f908ba2",
   "metadata": {},
   "outputs": [
    {
     "name": "stdout",
     "output_type": "stream",
     "text": [
      "32000 32000 32000 32000 32000 32000\n"
     ]
    }
   ],
   "source": [
    "# Checking the lenght of each list\n",
    "print(len(Car_brand),len(car_price), len(kms_driven), len(fuel), len(city), len(year))"
   ]
  },
  {
   "cell_type": "code",
   "execution_count": 13,
   "id": "505ff159",
   "metadata": {},
   "outputs": [],
   "source": [
    "# COnverting lists into Dataframe\n",
    "df= pd.DataFrame({\"Brand\":Car_brand, \n",
    "                     \"Model\":Car_brand,\n",
    "                     \"Price\":car_price,\n",
    "                     \"Kilometers Driven\":kms_driven,\n",
    "                     \"Fuel\":fuel,\n",
    "                     \"City\":city,\n",
    "                     \"Year\":year})"
   ]
  },
  {
   "cell_type": "code",
   "execution_count": 18,
   "id": "f5167443",
   "metadata": {},
   "outputs": [
    {
     "data": {
      "text/html": [
       "<div>\n",
       "<style scoped>\n",
       "    .dataframe tbody tr th:only-of-type {\n",
       "        vertical-align: middle;\n",
       "    }\n",
       "\n",
       "    .dataframe tbody tr th {\n",
       "        vertical-align: top;\n",
       "    }\n",
       "\n",
       "    .dataframe thead th {\n",
       "        text-align: right;\n",
       "    }\n",
       "</style>\n",
       "<table border=\"1\" class=\"dataframe\">\n",
       "  <thead>\n",
       "    <tr style=\"text-align: right;\">\n",
       "      <th></th>\n",
       "      <th>Brand</th>\n",
       "      <th>Model</th>\n",
       "      <th>Price</th>\n",
       "      <th>Kilometers Driven</th>\n",
       "      <th>Fuel</th>\n",
       "      <th>City</th>\n",
       "      <th>Year</th>\n",
       "    </tr>\n",
       "  </thead>\n",
       "  <tbody>\n",
       "    <tr>\n",
       "      <th>0</th>\n",
       "      <td>[Nissan Micra XV CVT [2016-2017]]</td>\n",
       "      <td>[Nissan Micra XV CVT [2016-2017]]</td>\n",
       "      <td>[₹ 3.45 Lakh]</td>\n",
       "      <td>[50,000 km  |  ]</td>\n",
       "      <td>[Petrol  |  ]</td>\n",
       "      <td>[Chennai]</td>\n",
       "      <td>[2014]</td>\n",
       "    </tr>\n",
       "    <tr>\n",
       "      <th>1</th>\n",
       "      <td>[Hyundai i10 Era]</td>\n",
       "      <td>[Hyundai i10 Era]</td>\n",
       "      <td>[₹ 2.6 Lakh]</td>\n",
       "      <td>[68,078 km  |  ]</td>\n",
       "      <td>[Petrol  |  ]</td>\n",
       "      <td>[Hyderabad]</td>\n",
       "      <td>[2008]</td>\n",
       "    </tr>\n",
       "    <tr>\n",
       "      <th>2</th>\n",
       "      <td>[Mercedes-Benz GLS 350 d]</td>\n",
       "      <td>[Mercedes-Benz GLS 350 d]</td>\n",
       "      <td>[₹ 52 Lakh]</td>\n",
       "      <td>[48,000 km  |  ]</td>\n",
       "      <td>[Diesel  |  ]</td>\n",
       "      <td>[Delhi]</td>\n",
       "      <td>[2016]</td>\n",
       "    </tr>\n",
       "    <tr>\n",
       "      <th>3</th>\n",
       "      <td>[Jeep Compass Limited (O) 1.4 Petrol AT [2017-...</td>\n",
       "      <td>[Jeep Compass Limited (O) 1.4 Petrol AT [2017-...</td>\n",
       "      <td>[₹ 13 Lakh]</td>\n",
       "      <td>[23,446 km  |  ]</td>\n",
       "      <td>[Petrol  |  ]</td>\n",
       "      <td>[Kolkata]</td>\n",
       "      <td>[2018]</td>\n",
       "    </tr>\n",
       "    <tr>\n",
       "      <th>4</th>\n",
       "      <td>[Honda Brio S MT]</td>\n",
       "      <td>[Honda Brio S MT]</td>\n",
       "      <td>[₹ 3.75 Lakh]</td>\n",
       "      <td>[36,000 km  |  ]</td>\n",
       "      <td>[Petrol  |  ]</td>\n",
       "      <td>[Kanpur]</td>\n",
       "      <td>[2016]</td>\n",
       "    </tr>\n",
       "    <tr>\n",
       "      <th>...</th>\n",
       "      <td>...</td>\n",
       "      <td>...</td>\n",
       "      <td>...</td>\n",
       "      <td>...</td>\n",
       "      <td>...</td>\n",
       "      <td>...</td>\n",
       "      <td>...</td>\n",
       "    </tr>\n",
       "    <tr>\n",
       "      <th>31995</th>\n",
       "      <td>[Mercedes-Benz C-Class C 220d Progressive [201...</td>\n",
       "      <td>[Mercedes-Benz C-Class C 220d Progressive [201...</td>\n",
       "      <td>[₹ 51 Lakh]</td>\n",
       "      <td>[7,671 km  |  ]</td>\n",
       "      <td>[Diesel  |  ]</td>\n",
       "      <td>[Mumbai]</td>\n",
       "      <td>[2021]</td>\n",
       "    </tr>\n",
       "    <tr>\n",
       "      <th>31996</th>\n",
       "      <td>[Honda WR-V VX MT Petrol]</td>\n",
       "      <td>[Honda WR-V VX MT Petrol]</td>\n",
       "      <td>[₹ 8.25 Lakh]</td>\n",
       "      <td>[31,654 km  |  ]</td>\n",
       "      <td>[Petrol  |  ]</td>\n",
       "      <td>[Hyderabad]</td>\n",
       "      <td>[2018]</td>\n",
       "    </tr>\n",
       "    <tr>\n",
       "      <th>31997</th>\n",
       "      <td>[Ford Figo Titanium1.5 TDCi]</td>\n",
       "      <td>[Ford Figo Titanium1.5 TDCi]</td>\n",
       "      <td>[₹ 6.95 Lakh]</td>\n",
       "      <td>[39,899 km  |  ]</td>\n",
       "      <td>[Diesel  |  ]</td>\n",
       "      <td>[Hyderabad]</td>\n",
       "      <td>[2019]</td>\n",
       "    </tr>\n",
       "    <tr>\n",
       "      <th>31998</th>\n",
       "      <td>[MG Gloster Savvy 6 STR 2.0 Twin Turbo 4WD]</td>\n",
       "      <td>[MG Gloster Savvy 6 STR 2.0 Twin Turbo 4WD]</td>\n",
       "      <td>[₹ 44 Lakh]</td>\n",
       "      <td>[9,995 km  |  ]</td>\n",
       "      <td>[Diesel  |  ]</td>\n",
       "      <td>[Mumbai]</td>\n",
       "      <td>[2021]</td>\n",
       "    </tr>\n",
       "    <tr>\n",
       "      <th>31999</th>\n",
       "      <td>[Maruti Suzuki Baleno Alpha Automatic]</td>\n",
       "      <td>[Maruti Suzuki Baleno Alpha Automatic]</td>\n",
       "      <td>[₹ 8.25 Lakh]</td>\n",
       "      <td>[10,486 km  |  ]</td>\n",
       "      <td>[Petrol  |  ]</td>\n",
       "      <td>[Pune]</td>\n",
       "      <td>[2018]</td>\n",
       "    </tr>\n",
       "  </tbody>\n",
       "</table>\n",
       "<p>32000 rows × 7 columns</p>\n",
       "</div>"
      ],
      "text/plain": [
       "                                                   Brand  \\\n",
       "0                      [Nissan Micra XV CVT [2016-2017]]   \n",
       "1                                      [Hyundai i10 Era]   \n",
       "2                              [Mercedes-Benz GLS 350 d]   \n",
       "3      [Jeep Compass Limited (O) 1.4 Petrol AT [2017-...   \n",
       "4                                      [Honda Brio S MT]   \n",
       "...                                                  ...   \n",
       "31995  [Mercedes-Benz C-Class C 220d Progressive [201...   \n",
       "31996                          [Honda WR-V VX MT Petrol]   \n",
       "31997                       [Ford Figo Titanium1.5 TDCi]   \n",
       "31998        [MG Gloster Savvy 6 STR 2.0 Twin Turbo 4WD]   \n",
       "31999             [Maruti Suzuki Baleno Alpha Automatic]   \n",
       "\n",
       "                                                   Model          Price  \\\n",
       "0                      [Nissan Micra XV CVT [2016-2017]]  [₹ 3.45 Lakh]   \n",
       "1                                      [Hyundai i10 Era]   [₹ 2.6 Lakh]   \n",
       "2                              [Mercedes-Benz GLS 350 d]    [₹ 52 Lakh]   \n",
       "3      [Jeep Compass Limited (O) 1.4 Petrol AT [2017-...    [₹ 13 Lakh]   \n",
       "4                                      [Honda Brio S MT]  [₹ 3.75 Lakh]   \n",
       "...                                                  ...            ...   \n",
       "31995  [Mercedes-Benz C-Class C 220d Progressive [201...    [₹ 51 Lakh]   \n",
       "31996                          [Honda WR-V VX MT Petrol]  [₹ 8.25 Lakh]   \n",
       "31997                       [Ford Figo Titanium1.5 TDCi]  [₹ 6.95 Lakh]   \n",
       "31998        [MG Gloster Savvy 6 STR 2.0 Twin Turbo 4WD]    [₹ 44 Lakh]   \n",
       "31999             [Maruti Suzuki Baleno Alpha Automatic]  [₹ 8.25 Lakh]   \n",
       "\n",
       "      Kilometers Driven           Fuel         City    Year  \n",
       "0      [50,000 km  |  ]  [Petrol  |  ]    [Chennai]  [2014]  \n",
       "1      [68,078 km  |  ]  [Petrol  |  ]  [Hyderabad]  [2008]  \n",
       "2      [48,000 km  |  ]  [Diesel  |  ]      [Delhi]  [2016]  \n",
       "3      [23,446 km  |  ]  [Petrol  |  ]    [Kolkata]  [2018]  \n",
       "4      [36,000 km  |  ]  [Petrol  |  ]     [Kanpur]  [2016]  \n",
       "...                 ...            ...          ...     ...  \n",
       "31995   [7,671 km  |  ]  [Diesel  |  ]     [Mumbai]  [2021]  \n",
       "31996  [31,654 km  |  ]  [Petrol  |  ]  [Hyderabad]  [2018]  \n",
       "31997  [39,899 km  |  ]  [Diesel  |  ]  [Hyderabad]  [2019]  \n",
       "31998   [9,995 km  |  ]  [Diesel  |  ]     [Mumbai]  [2021]  \n",
       "31999  [10,486 km  |  ]  [Petrol  |  ]       [Pune]  [2018]  \n",
       "\n",
       "[32000 rows x 7 columns]"
      ]
     },
     "execution_count": 18,
     "metadata": {},
     "output_type": "execute_result"
    }
   ],
   "source": [
    "# First Look of the dataframe\n",
    "df"
   ]
  },
  {
   "cell_type": "markdown",
   "id": "7e20bef3",
   "metadata": {},
   "source": [
    "*** We will now structure the dataframe properly and weed-out unnecessary characters ***"
   ]
  },
  {
   "cell_type": "code",
   "execution_count": 20,
   "id": "2df4466a",
   "metadata": {},
   "outputs": [],
   "source": [
    "for i in df.columns:\n",
    "    df[i] = df[i].str.get(0)"
   ]
  },
  {
   "cell_type": "code",
   "execution_count": 24,
   "id": "94dce06e",
   "metadata": {},
   "outputs": [],
   "source": [
    "df['Brand'] = df['Model'].str.split(' ').str[0] # Segregating the Brand"
   ]
  },
  {
   "cell_type": "code",
   "execution_count": 26,
   "id": "07b590bc",
   "metadata": {},
   "outputs": [],
   "source": [
    "df1= pd.DataFrame(df) # Creating a copy of the earlier dataframe"
   ]
  },
  {
   "cell_type": "code",
   "execution_count": 27,
   "id": "4b3c44d3",
   "metadata": {},
   "outputs": [],
   "source": [
    "df1['Model'] = df1['Model'].str.split(' ').str[1] # Segregating the Model"
   ]
  },
  {
   "cell_type": "code",
   "execution_count": 30,
   "id": "e2ad26eb",
   "metadata": {},
   "outputs": [],
   "source": [
    "df2= pd.DataFrame(df1) # Creating a copy of the earlier dataframe"
   ]
  },
  {
   "cell_type": "code",
   "execution_count": 31,
   "id": "f10b57cc",
   "metadata": {},
   "outputs": [],
   "source": [
    "# Dropping special characters\n",
    "for i in df2.columns:\n",
    "    df2=df2.replace('\\*','',regex=True).astype(str)"
   ]
  },
  {
   "cell_type": "code",
   "execution_count": 37,
   "id": "842d4a49",
   "metadata": {},
   "outputs": [],
   "source": [
    "df3= pd.DataFrame(df2) # Creating a copy of the earlier dataframe"
   ]
  },
  {
   "cell_type": "code",
   "execution_count": 38,
   "id": "cad0d585",
   "metadata": {},
   "outputs": [],
   "source": [
    "# Retrieving only the useful information and dropping the extras\n",
    "df3['Price'] = df3['Price'].str.split(' ').str[1]\n",
    "df3['Kilometers Driven'] = df3['Kilometers Driven'].str.split(' ').str[0]\n",
    "df3['Fuel'] = df3['Fuel'].str.split(' ').str[0]"
   ]
  },
  {
   "cell_type": "code",
   "execution_count": 40,
   "id": "cc210464",
   "metadata": {},
   "outputs": [],
   "source": [
    "df3[\"Price\"]= df3[\"Price\"].astype(float) # Changing the type of the column"
   ]
  },
  {
   "cell_type": "code",
   "execution_count": 44,
   "id": "65d6e5ec",
   "metadata": {},
   "outputs": [],
   "source": [
    "df3[\"Kilometers Driven\"]=df3[\"Kilometers Driven\"].replace(',','',regex=True).astype(float) # Dropping ',' and changing the type"
   ]
  },
  {
   "cell_type": "code",
   "execution_count": 46,
   "id": "6aefa7d2",
   "metadata": {},
   "outputs": [
    {
     "name": "stdout",
     "output_type": "stream",
     "text": [
      "<class 'pandas.core.frame.DataFrame'>\n",
      "RangeIndex: 32000 entries, 0 to 31999\n",
      "Data columns (total 7 columns):\n",
      " #   Column             Non-Null Count  Dtype  \n",
      "---  ------             --------------  -----  \n",
      " 0   Brand              32000 non-null  object \n",
      " 1   Model              32000 non-null  object \n",
      " 2   Price              32000 non-null  float64\n",
      " 3   Kilometers Driven  32000 non-null  float64\n",
      " 4   Fuel               32000 non-null  object \n",
      " 5   City               32000 non-null  object \n",
      " 6   Year               32000 non-null  int32  \n",
      "dtypes: float64(2), int32(1), object(4)\n",
      "memory usage: 1.6+ MB\n"
     ]
    }
   ],
   "source": [
    "df3.info()"
   ]
  },
  {
   "cell_type": "code",
   "execution_count": 41,
   "id": "a76cef3d",
   "metadata": {},
   "outputs": [],
   "source": [
    "df3[\"Year\"]= df3[\"Year\"].astype(int) # Changing the type"
   ]
  },
  {
   "cell_type": "code",
   "execution_count": 42,
   "id": "4df05d71",
   "metadata": {},
   "outputs": [
    {
     "name": "stdout",
     "output_type": "stream",
     "text": [
      "<class 'pandas.core.frame.DataFrame'>\n",
      "RangeIndex: 32000 entries, 0 to 31999\n",
      "Data columns (total 7 columns):\n",
      " #   Column             Non-Null Count  Dtype  \n",
      "---  ------             --------------  -----  \n",
      " 0   Brand              32000 non-null  object \n",
      " 1   Model              32000 non-null  object \n",
      " 2   Price              32000 non-null  float64\n",
      " 3   Kilometers Driven  32000 non-null  object \n",
      " 4   Fuel               32000 non-null  object \n",
      " 5   City               32000 non-null  object \n",
      " 6   Year               32000 non-null  int32  \n",
      "dtypes: float64(1), int32(1), object(5)\n",
      "memory usage: 1.6+ MB\n"
     ]
    }
   ],
   "source": [
    "df3.info()"
   ]
  },
  {
   "cell_type": "code",
   "execution_count": 50,
   "id": "05293c71",
   "metadata": {},
   "outputs": [],
   "source": [
    "df3[\"Price\"]= df3[\"Price\"]*100000 # Multiplying by one lakh to get the value since we had dropped the word \"lakh\""
   ]
  },
  {
   "cell_type": "code",
   "execution_count": 52,
   "id": "ba14b63f",
   "metadata": {},
   "outputs": [
    {
     "name": "stdout",
     "output_type": "stream",
     "text": [
      "<class 'pandas.core.frame.DataFrame'>\n",
      "RangeIndex: 32000 entries, 0 to 31999\n",
      "Data columns (total 7 columns):\n",
      " #   Column             Non-Null Count  Dtype  \n",
      "---  ------             --------------  -----  \n",
      " 0   Brand              32000 non-null  object \n",
      " 1   Model              32000 non-null  object \n",
      " 2   Price              32000 non-null  float64\n",
      " 3   Kilometers Driven  32000 non-null  float64\n",
      " 4   Fuel               32000 non-null  object \n",
      " 5   City               32000 non-null  object \n",
      " 6   Year               32000 non-null  int32  \n",
      "dtypes: float64(2), int32(1), object(4)\n",
      "memory usage: 1.6+ MB\n"
     ]
    }
   ],
   "source": [
    "# Final check\n",
    "df3.info() "
   ]
  },
  {
   "cell_type": "code",
   "execution_count": 54,
   "id": "f33927db",
   "metadata": {},
   "outputs": [
    {
     "data": {
      "text/html": [
       "<div>\n",
       "<style scoped>\n",
       "    .dataframe tbody tr th:only-of-type {\n",
       "        vertical-align: middle;\n",
       "    }\n",
       "\n",
       "    .dataframe tbody tr th {\n",
       "        vertical-align: top;\n",
       "    }\n",
       "\n",
       "    .dataframe thead th {\n",
       "        text-align: right;\n",
       "    }\n",
       "</style>\n",
       "<table border=\"1\" class=\"dataframe\">\n",
       "  <thead>\n",
       "    <tr style=\"text-align: right;\">\n",
       "      <th></th>\n",
       "      <th>Brand</th>\n",
       "      <th>Model</th>\n",
       "      <th>Price</th>\n",
       "      <th>Kilometers Driven</th>\n",
       "      <th>Fuel</th>\n",
       "      <th>City</th>\n",
       "      <th>Year</th>\n",
       "    </tr>\n",
       "  </thead>\n",
       "  <tbody>\n",
       "    <tr>\n",
       "      <th>0</th>\n",
       "      <td>Nissan</td>\n",
       "      <td>Micra</td>\n",
       "      <td>345000.0</td>\n",
       "      <td>50000.0</td>\n",
       "      <td>Petrol</td>\n",
       "      <td>Chennai</td>\n",
       "      <td>2014</td>\n",
       "    </tr>\n",
       "    <tr>\n",
       "      <th>1</th>\n",
       "      <td>Hyundai</td>\n",
       "      <td>i10</td>\n",
       "      <td>260000.0</td>\n",
       "      <td>68078.0</td>\n",
       "      <td>Petrol</td>\n",
       "      <td>Hyderabad</td>\n",
       "      <td>2008</td>\n",
       "    </tr>\n",
       "    <tr>\n",
       "      <th>2</th>\n",
       "      <td>Mercedes-Benz</td>\n",
       "      <td>GLS</td>\n",
       "      <td>5200000.0</td>\n",
       "      <td>48000.0</td>\n",
       "      <td>Diesel</td>\n",
       "      <td>Delhi</td>\n",
       "      <td>2016</td>\n",
       "    </tr>\n",
       "    <tr>\n",
       "      <th>3</th>\n",
       "      <td>Jeep</td>\n",
       "      <td>Compass</td>\n",
       "      <td>1300000.0</td>\n",
       "      <td>23446.0</td>\n",
       "      <td>Petrol</td>\n",
       "      <td>Kolkata</td>\n",
       "      <td>2018</td>\n",
       "    </tr>\n",
       "    <tr>\n",
       "      <th>4</th>\n",
       "      <td>Honda</td>\n",
       "      <td>Brio</td>\n",
       "      <td>375000.0</td>\n",
       "      <td>36000.0</td>\n",
       "      <td>Petrol</td>\n",
       "      <td>Kanpur</td>\n",
       "      <td>2016</td>\n",
       "    </tr>\n",
       "    <tr>\n",
       "      <th>...</th>\n",
       "      <td>...</td>\n",
       "      <td>...</td>\n",
       "      <td>...</td>\n",
       "      <td>...</td>\n",
       "      <td>...</td>\n",
       "      <td>...</td>\n",
       "      <td>...</td>\n",
       "    </tr>\n",
       "    <tr>\n",
       "      <th>31995</th>\n",
       "      <td>Mercedes-Benz</td>\n",
       "      <td>C-Class</td>\n",
       "      <td>5100000.0</td>\n",
       "      <td>7671.0</td>\n",
       "      <td>Diesel</td>\n",
       "      <td>Mumbai</td>\n",
       "      <td>2021</td>\n",
       "    </tr>\n",
       "    <tr>\n",
       "      <th>31996</th>\n",
       "      <td>Honda</td>\n",
       "      <td>WR-V</td>\n",
       "      <td>825000.0</td>\n",
       "      <td>31654.0</td>\n",
       "      <td>Petrol</td>\n",
       "      <td>Hyderabad</td>\n",
       "      <td>2018</td>\n",
       "    </tr>\n",
       "    <tr>\n",
       "      <th>31997</th>\n",
       "      <td>Ford</td>\n",
       "      <td>Figo</td>\n",
       "      <td>695000.0</td>\n",
       "      <td>39899.0</td>\n",
       "      <td>Diesel</td>\n",
       "      <td>Hyderabad</td>\n",
       "      <td>2019</td>\n",
       "    </tr>\n",
       "    <tr>\n",
       "      <th>31998</th>\n",
       "      <td>MG</td>\n",
       "      <td>Gloster</td>\n",
       "      <td>4400000.0</td>\n",
       "      <td>9995.0</td>\n",
       "      <td>Diesel</td>\n",
       "      <td>Mumbai</td>\n",
       "      <td>2021</td>\n",
       "    </tr>\n",
       "    <tr>\n",
       "      <th>31999</th>\n",
       "      <td>Maruti</td>\n",
       "      <td>Suzuki</td>\n",
       "      <td>825000.0</td>\n",
       "      <td>10486.0</td>\n",
       "      <td>Petrol</td>\n",
       "      <td>Pune</td>\n",
       "      <td>2018</td>\n",
       "    </tr>\n",
       "  </tbody>\n",
       "</table>\n",
       "<p>32000 rows × 7 columns</p>\n",
       "</div>"
      ],
      "text/plain": [
       "               Brand    Model      Price  Kilometers Driven    Fuel  \\\n",
       "0             Nissan    Micra   345000.0            50000.0  Petrol   \n",
       "1            Hyundai      i10   260000.0            68078.0  Petrol   \n",
       "2      Mercedes-Benz      GLS  5200000.0            48000.0  Diesel   \n",
       "3               Jeep  Compass  1300000.0            23446.0  Petrol   \n",
       "4              Honda     Brio   375000.0            36000.0  Petrol   \n",
       "...              ...      ...        ...                ...     ...   \n",
       "31995  Mercedes-Benz  C-Class  5100000.0             7671.0  Diesel   \n",
       "31996          Honda     WR-V   825000.0            31654.0  Petrol   \n",
       "31997           Ford     Figo   695000.0            39899.0  Diesel   \n",
       "31998             MG  Gloster  4400000.0             9995.0  Diesel   \n",
       "31999         Maruti   Suzuki   825000.0            10486.0  Petrol   \n",
       "\n",
       "            City  Year  \n",
       "0        Chennai  2014  \n",
       "1      Hyderabad  2008  \n",
       "2          Delhi  2016  \n",
       "3        Kolkata  2018  \n",
       "4         Kanpur  2016  \n",
       "...          ...   ...  \n",
       "31995     Mumbai  2021  \n",
       "31996  Hyderabad  2018  \n",
       "31997  Hyderabad  2019  \n",
       "31998     Mumbai  2021  \n",
       "31999       Pune  2018  \n",
       "\n",
       "[32000 rows x 7 columns]"
      ]
     },
     "execution_count": 54,
     "metadata": {},
     "output_type": "execute_result"
    }
   ],
   "source": [
    "# Final Look\n",
    "df3"
   ]
  },
  {
   "cell_type": "code",
   "execution_count": 53,
   "id": "c7d906ed",
   "metadata": {},
   "outputs": [],
   "source": [
    "# saving the dataframe\n",
    "df3.to_csv('car_price.csv')"
   ]
  }
 ],
 "metadata": {
  "kernelspec": {
   "display_name": "Python 3 (ipykernel)",
   "language": "python",
   "name": "python3"
  },
  "language_info": {
   "codemirror_mode": {
    "name": "ipython",
    "version": 3
   },
   "file_extension": ".py",
   "mimetype": "text/x-python",
   "name": "python",
   "nbconvert_exporter": "python",
   "pygments_lexer": "ipython3",
   "version": "3.9.12"
  }
 },
 "nbformat": 4,
 "nbformat_minor": 5
}
