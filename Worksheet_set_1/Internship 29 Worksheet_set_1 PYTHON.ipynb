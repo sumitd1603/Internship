{
 "cells": [
  {
   "cell_type": "markdown",
   "id": "18033437",
   "metadata": {},
   "source": [
    "# Python Programming solutions for the question numbers 11 to 15 in Worksheet_set_1 "
   ]
  },
  {
   "cell_type": "code",
   "execution_count": 14,
   "id": "09726160",
   "metadata": {},
   "outputs": [],
   "source": [
    "import pyforest"
   ]
  },
  {
   "cell_type": "markdown",
   "id": "e02d3677",
   "metadata": {},
   "source": [
    "Question 11"
   ]
  },
  {
   "cell_type": "markdown",
   "id": "659949b1",
   "metadata": {},
   "source": [
    "Write a python program to find the factorial of a number."
   ]
  },
  {
   "cell_type": "code",
   "execution_count": 15,
   "id": "f8f4c407",
   "metadata": {},
   "outputs": [],
   "source": [
    "def fact(n):                                        # Defining the function for factorial calculation\n",
    "    n=int(n)                                        # Integer whose factorial we want incase the input is not an integer it will convert the input to integer\n",
    "    f=1                                             # Starting value for the factorial calculation\n",
    "    \n",
    "    if n<0:                                         # We can not have factorial for a negative integer\n",
    "        print(\"You can not input a negative value \")\n",
    "        \n",
    "    elif n==0:                                      # As we know factorial for \"0\" is \"1\"\n",
    "        print(\"0 factorial is 1\")\n",
    "        \n",
    "    else:\n",
    "        for i in range(1, n+1):                      # This line is the code for factorial of any positive number \n",
    "            f= f*i\n",
    "    print(\"The factorial of \",n,\"is \",f)"
   ]
  },
  {
   "cell_type": "code",
   "execution_count": 16,
   "id": "117c318e",
   "metadata": {},
   "outputs": [
    {
     "name": "stdout",
     "output_type": "stream",
     "text": [
      "The factorial of  10 is  3628800\n"
     ]
    }
   ],
   "source": [
    "fact(n=10)   # Calling the function for factorial calculation"
   ]
  },
  {
   "cell_type": "markdown",
   "id": "1fbe6fcb",
   "metadata": {},
   "source": [
    "Question 12"
   ]
  },
  {
   "cell_type": "markdown",
   "id": "4c1bca97",
   "metadata": {},
   "source": [
    "Write a python program to find whether a number is prime or composite."
   ]
  },
  {
   "cell_type": "code",
   "execution_count": 17,
   "id": "022559f5",
   "metadata": {},
   "outputs": [],
   "source": [
    "def num(n):                      # Defining function to check whether the number is prime or composite\n",
    "    n= int(n)                    # Number we need to check needs to be an integer\n",
    "    if (n ==0 or n ==1):           #if the number entered is either 0 or 1\n",
    "        print(n,\"Number is neither PRIME nor COMPOSITE\")\n",
    "        \n",
    "    elif n>1:                    # For numbers above 1\n",
    "        for i in range(2,n):     # Defining the range for number to be checked\n",
    "            if(n%i == 0):        # Defining condition for Composite number\n",
    "                print(n,\" is a COMPOSITE number\")\n",
    "                break            # Exiting the loop if the condition is satisfied\n",
    "        else:\n",
    "            print(n, \" is a Prime number\")\n",
    "                      \n",
    "                \n",
    "    else:                        # For negative numbers\n",
    "        print (\"Please enter a positive number\")"
   ]
  },
  {
   "cell_type": "code",
   "execution_count": 27,
   "id": "d501c385",
   "metadata": {},
   "outputs": [
    {
     "name": "stdout",
     "output_type": "stream",
     "text": [
      "45  is a COMPOSITE number\n"
     ]
    }
   ],
   "source": [
    "num(n= 45)       # Recalling the function"
   ]
  },
  {
   "cell_type": "code",
   "execution_count": 19,
   "id": "ec72d94d",
   "metadata": {},
   "outputs": [
    {
     "name": "stdout",
     "output_type": "stream",
     "text": [
      "47  is a Prime number\n"
     ]
    }
   ],
   "source": [
    "num(n=47)"
   ]
  },
  {
   "cell_type": "markdown",
   "id": "af9218a4",
   "metadata": {},
   "source": [
    "Question 13"
   ]
  },
  {
   "cell_type": "markdown",
   "id": "541e9faa",
   "metadata": {},
   "source": [
    "Write a python program to check whether a given string is palindrome or not."
   ]
  },
  {
   "cell_type": "code",
   "execution_count": 20,
   "id": "dd834af3",
   "metadata": {},
   "outputs": [],
   "source": [
    "def palindrome(word):        # Defining function to check whether the given word is a palindrome\n",
    "    word= str(word)          # Word we need to check \n",
    "    if(word==word[::-1]):    # Stating condition for Palindrome\n",
    "        print(word,\" is a Palindrome\")    \n",
    "    \n",
    "    else:\n",
    "        print(word,\" is not a Palindrome\")"
   ]
  },
  {
   "cell_type": "code",
   "execution_count": 21,
   "id": "74af6b56",
   "metadata": {},
   "outputs": [
    {
     "name": "stdout",
     "output_type": "stream",
     "text": [
      "Anna  is not a Palindrome\n"
     ]
    }
   ],
   "source": [
    "palindrome(word= \"Anna\")  # Recalling the function"
   ]
  },
  {
   "cell_type": "code",
   "execution_count": 22,
   "id": "59f8f373",
   "metadata": {},
   "outputs": [
    {
     "name": "stdout",
     "output_type": "stream",
     "text": [
      "smart  is not a Palindrome\n"
     ]
    }
   ],
   "source": [
    "palindrome(word=\"smart\")  # Recalling the function"
   ]
  },
  {
   "cell_type": "markdown",
   "id": "b41ef877",
   "metadata": {},
   "source": [
    "Question 14"
   ]
  },
  {
   "cell_type": "markdown",
   "id": "aaaaf168",
   "metadata": {},
   "source": [
    "Write a Python program to get the third side of right-angled triangle from two given sides."
   ]
  },
  {
   "cell_type": "markdown",
   "id": "16ca3998",
   "metadata": {},
   "source": [
    "Since the given triangle is a right-angled triangle we need to use Pythagoras theorem to find the missing side.\n",
    "Pythagoras Theorem:\n",
    "(adjacent side)^2 + (base side)^2 = hypotenuse side^2"
   ]
  },
  {
   "cell_type": "code",
   "execution_count": 23,
   "id": "af6d8e2f",
   "metadata": {},
   "outputs": [],
   "source": [
    "def third_side(a,b,c):                                               # Defining the function\n",
    "    base= b                                                          # Defining the base side of the given triangle\n",
    "    adjacent_side= a                                                 # Defining the adjacent side of the given triangle\n",
    "    hypotenuse= c                                                   # Defining the hypotenuse side of the given triangle\n",
    "    \n",
    "    if b== str(\"x\"):                                                # To calculate base side\n",
    "        return (\"base= \" + str(((c**2) - (a**2))**0.5))\n",
    "    elif a== str(\"x\"):                                               # To calculate adjacent side\n",
    "        return (\"adjacent= \" + str(((c**2) - (b**2))**0.5))\n",
    "    elif c== str(\"x\"):                                               # To calculate hypotenuse side\n",
    "        return (\"hypotenus= \" + str(((a**2) + (b**2))**0.5))\n",
    "    else:\n",
    "        pass                                                        # As no other condition prevails and maintaining code hygiene"
   ]
  },
  {
   "cell_type": "code",
   "execution_count": 24,
   "id": "90a39775",
   "metadata": {},
   "outputs": [
    {
     "data": {
      "text/plain": [
       "'adjacent= 5.291502622129181'"
      ]
     },
     "execution_count": 24,
     "metadata": {},
     "output_type": "execute_result"
    }
   ],
   "source": [
    "third_side(a='x',b=6,c=8)     # Recalling the function"
   ]
  },
  {
   "cell_type": "markdown",
   "id": "eb8bed9b",
   "metadata": {},
   "source": [
    "Question 15"
   ]
  },
  {
   "cell_type": "markdown",
   "id": "b35d3e70",
   "metadata": {},
   "source": [
    "Write a python program to print the frequency of each of the characters present in a given string."
   ]
  },
  {
   "cell_type": "code",
   "execution_count": 25,
   "id": "90437ad1",
   "metadata": {},
   "outputs": [],
   "source": [
    "def freq(w):                  # Defining function for calculating frequency each alphabet appears in a given word\n",
    "    w=str(w)                 # given word is a string type\n",
    "    \n",
    "    word={}                  # creating a dictonary to store key and value\n",
    "    \n",
    "    for i in w:\n",
    "        if i in word:\n",
    "            word[i] += 1     # calculating number of times an alphabet appears in a word by incrementing once each time\n",
    "        \n",
    "        else:\n",
    "            word[i] =1      # for an alphabet appearing only once but needs to be added in the result\n",
    "            \n",
    "    print (word)            # To display result\n",
    "            "
   ]
  },
  {
   "cell_type": "code",
   "execution_count": 26,
   "id": "5717ed4e",
   "metadata": {},
   "outputs": [
    {
     "name": "stdout",
     "output_type": "stream",
     "text": [
      "{'h': 1, 'i': 1, 'p': 3, 'o': 2, 't': 1, 'a': 1, 'm': 1, 'u': 1, 's': 1}\n"
     ]
    }
   ],
   "source": [
    "freq(w=\"hippopotamus\")    # Recalling the function"
   ]
  }
 ],
 "metadata": {
  "kernelspec": {
   "display_name": "Python 3",
   "language": "python",
   "name": "python3"
  },
  "language_info": {
   "codemirror_mode": {
    "name": "ipython",
    "version": 3
   },
   "file_extension": ".py",
   "mimetype": "text/x-python",
   "name": "python",
   "nbconvert_exporter": "python",
   "pygments_lexer": "ipython3",
   "version": "3.8.8"
  }
 },
 "nbformat": 4,
 "nbformat_minor": 5
}
